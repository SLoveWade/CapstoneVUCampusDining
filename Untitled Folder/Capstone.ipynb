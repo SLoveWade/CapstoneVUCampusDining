{
 "cells": [
  {
   "cell_type": "code",
   "execution_count": null,
   "id": "bd5f2b49",
   "metadata": {},
   "outputs": [],
   "source": [
    "import pandas as pd\n",
    "from datetime import datetime\n",
    "import matplotlib as plt"
   ]
  },
  {
   "cell_type": "markdown",
   "id": "9dbf95d7",
   "metadata": {},
   "source": [
    "**Pulled All Relevant Data From The Excel Files**"
   ]
  },
  {
   "cell_type": "code",
   "execution_count": null,
   "id": "ae42e504",
   "metadata": {},
   "outputs": [],
   "source": [
    "sales = pd.read_csv('../data/Branscomb Sales By Day 2_7 - 2_13.csv')"
   ]
  },
  {
   "cell_type": "code",
   "execution_count": null,
   "id": "3cba5103",
   "metadata": {},
   "outputs": [],
   "source": [
    "sales"
   ]
  },
  {
   "cell_type": "code",
   "execution_count": null,
   "id": "e677c9ab",
   "metadata": {
    "scrolled": true
   },
   "outputs": [],
   "source": [
    "sales.sort_values('Qty Sold',ascending=False)"
   ]
  },
  {
   "cell_type": "markdown",
   "id": "15b9b765",
   "metadata": {},
   "source": [
    "**Rename The Columns**"
   ]
  },
  {
   "cell_type": "code",
   "execution_count": null,
   "id": "fa2339d7",
   "metadata": {},
   "outputs": [],
   "source": [
    "#bsales['Menu Item Name'] = bsales['Menu_Item_Name']\n",
    "\n",
    "sales = sales.rename(columns={'Menu Item Name': 'Menu_Item_Name'})\n",
    "sales = sales.rename(columns={'Margin Less Item Disc': 'Margin_After_Discount'})"
   ]
  },
  {
   "cell_type": "markdown",
   "id": "7359a774",
   "metadata": {},
   "source": [
    "**Exclude Drinks**"
   ]
  },
  {
   "cell_type": "code",
   "execution_count": null,
   "id": "861a5837",
   "metadata": {
    "scrolled": false
   },
   "outputs": [],
   "source": [
    "sales = sales[sales.Menu_Item_Name != 'Fountain Beverage']"
   ]
  },
  {
   "cell_type": "code",
   "execution_count": null,
   "id": "6f2c1b1d",
   "metadata": {},
   "outputs": [],
   "source": [
    "sales.sort_values(['Qty Sold'], ascending= False).head(25)"
   ]
  },
  {
   "cell_type": "markdown",
   "id": "afdd2e50",
   "metadata": {},
   "source": [
    "**Check Types**"
   ]
  },
  {
   "cell_type": "code",
   "execution_count": null,
   "id": "54cf49dc",
   "metadata": {
    "scrolled": true
   },
   "outputs": [],
   "source": [
    "sales.dtypes"
   ]
  },
  {
   "cell_type": "markdown",
   "id": "26b19a3a",
   "metadata": {},
   "source": [
    "**Fix Date**"
   ]
  },
  {
   "cell_type": "code",
   "execution_count": null,
   "id": "0d5bf252",
   "metadata": {},
   "outputs": [],
   "source": [
    "sales[\"Date\"] = pd.to_datetime(sales[\"Date\"])\n",
    "sales.dtypes"
   ]
  },
  {
   "cell_type": "code",
   "execution_count": null,
   "id": "1ca45dab",
   "metadata": {},
   "outputs": [],
   "source": [
    "sales.groupby(['Date', 'Menu_Item_Name']).max().sort_values(by = 'Qty Sold', ascending = False)"
   ]
  },
  {
   "cell_type": "code",
   "execution_count": null,
   "id": "c0222837",
   "metadata": {
    "scrolled": true
   },
   "outputs": [],
   "source": [
    "sales.sort_values(['Date', 'Qty Sold'],ascending = [True, False])"
   ]
  },
  {
   "cell_type": "markdown",
   "id": "9b44033e",
   "metadata": {},
   "source": [
    "**Top Sellers Per Day**"
   ]
  },
  {
   "cell_type": "code",
   "execution_count": null,
   "id": "fda4c3a7",
   "metadata": {
    "scrolled": true
   },
   "outputs": [],
   "source": [
    "top8 = sales.sort_values(['Date', 'Qty Sold'],ascending = [True, False]).groupby('Date').head(8)\n",
    "top8"
   ]
  },
  {
   "cell_type": "markdown",
   "id": "e8aec25b",
   "metadata": {},
   "source": [
    "**Top 3 Entrees Per Day**"
   ]
  },
  {
   "cell_type": "code",
   "execution_count": null,
   "id": "f424e4c8",
   "metadata": {
    "scrolled": true
   },
   "outputs": [],
   "source": [
    "entree = sales.loc[sales['Family Group'] == 'Entrée'].sort_values(['Date', 'Qty Sold'],ascending = [True, False]).groupby('Date').head(8)\n",
    "entree"
   ]
  },
  {
   "cell_type": "markdown",
   "id": "8dd841db",
   "metadata": {},
   "source": [
    "**Add In The Shipment**"
   ]
  },
  {
   "cell_type": "markdown",
   "id": "60b47992",
   "metadata": {},
   "source": [
    "**Add In The Shipment**"
   ]
  },
  {
   "cell_type": "markdown",
   "id": "5b41e4e1",
   "metadata": {},
   "source": [
    "**Add In The Shipment**"
   ]
  },
  {
   "cell_type": "code",
   "execution_count": null,
   "id": "4b33bb37",
   "metadata": {
    "scrolled": false
   },
   "outputs": [],
   "source": [
    "incoming = pd.read_csv('../data/Monthly Distribution Final - Sheet1.csv')\n",
    "\n",
    "# I FILTERED THE INCOMING SHEETS TO MATCH ONLY 2/7 - 2/15 SO THAT I DIDNT GET DATES THAT DIDNT FIT.\n",
    "incoming"
   ]
  },
  {
   "cell_type": "markdown",
   "id": "db0baaa1",
   "metadata": {},
   "source": [
    "**Delete the unncessary columns**"
   ]
  },
  {
   "cell_type": "code",
   "execution_count": null,
   "id": "a3afc330",
   "metadata": {},
   "outputs": [],
   "source": [
    "# incoming.drop(['CpuUnitName'], axis = 1)\n",
    "\n",
    "# This doesn't work"
   ]
  },
  {
   "cell_type": "markdown",
   "id": "f90ca0c2",
   "metadata": {},
   "source": [
    "**Rename columns to read easier**"
   ]
  },
  {
   "cell_type": "code",
   "execution_count": null,
   "id": "23410ca4",
   "metadata": {},
   "outputs": [],
   "source": [
    "incoming.rename(columns = {'CpuDisplayItemName': 'Menu_Item_Name'}, inplace = True)"
   ]
  },
  {
   "cell_type": "code",
   "execution_count": null,
   "id": "cef2e7ee",
   "metadata": {},
   "outputs": [],
   "source": [
    "# merge = TopSales.join(incoming, on = 'Menu_Item_Name')"
   ]
  },
  {
   "cell_type": "markdown",
   "id": "0709da47",
   "metadata": {},
   "source": [
    "**Change column type so merge can work**"
   ]
  },
  {
   "cell_type": "code",
   "execution_count": null,
   "id": "2889ac73",
   "metadata": {},
   "outputs": [],
   "source": [
    "incoming['DeliveryDate'] = pd.to_datetime(incoming['DeliveryDate'])"
   ]
  },
  {
   "cell_type": "markdown",
   "id": "4c069cff",
   "metadata": {},
   "source": [
    "**Check the type for each column**"
   ]
  },
  {
   "cell_type": "code",
   "execution_count": null,
   "id": "c545b7c6",
   "metadata": {},
   "outputs": [],
   "source": [
    "incoming.dtypes"
   ]
  },
  {
   "cell_type": "code",
   "execution_count": null,
   "id": "f77a5694",
   "metadata": {
    "scrolled": true
   },
   "outputs": [],
   "source": [
    "sales.dtypes"
   ]
  },
  {
   "cell_type": "code",
   "execution_count": null,
   "id": "a4311fb8",
   "metadata": {
    "scrolled": true
   },
   "outputs": [],
   "source": [
    "incoming.Menu_Item_Name.value_counts()"
   ]
  },
  {
   "cell_type": "markdown",
   "id": "236c74cc",
   "metadata": {},
   "source": [
    "**Merge Incoming Food **"
   ]
  },
  {
   "cell_type": "code",
   "execution_count": null,
   "id": "765f6460",
   "metadata": {
    "scrolled": true
   },
   "outputs": [],
   "source": [
    "merge = sales.merge(incoming,left_on = ['Menu_Item_Name', 'Date'],right_on = ['Menu_Item_Name','DeliveryDate'], how = 'outer')\n",
    "merge"
   ]
  },
  {
   "cell_type": "code",
   "execution_count": null,
   "id": "28e93dd1",
   "metadata": {},
   "outputs": [],
   "source": [
    "merge"
   ]
  },
  {
   "cell_type": "code",
   "execution_count": null,
   "id": "5f3beb59",
   "metadata": {},
   "outputs": [],
   "source": [
    "merge = merge.rename(columns={'Qty Sold': 'Qty_Sold'})"
   ]
  },
  {
   "cell_type": "code",
   "execution_count": null,
   "id": "3728c550",
   "metadata": {
    "scrolled": false
   },
   "outputs": [],
   "source": [
    "merge.Menu_Item_Name.value_counts()"
   ]
  },
  {
   "cell_type": "code",
   "execution_count": null,
   "id": "428f9c77",
   "metadata": {
    "scrolled": true
   },
   "outputs": [],
   "source": [
    "merge = merge.groupby(['Menu_Item_Name','Date']).sum()\n",
    "merge"
   ]
  },
  {
   "cell_type": "code",
   "execution_count": null,
   "id": "8560bcc9",
   "metadata": {},
   "outputs": [],
   "source": [
    "merge = merge.rename(columns={'Qty Sold': 'Qty_Sold'})"
   ]
  },
  {
   "cell_type": "code",
   "execution_count": null,
   "id": "9699ac14",
   "metadata": {
    "scrolled": true
   },
   "outputs": [],
   "source": [
    "# merge1 = merge1['CpuDetailReceivedQuantity' > 0]\n",
    "\n",
    "#merge1 = merge1.loc[merge1['CpuDetailReceivedQuantity'] > 0]\n",
    "#merge1"
   ]
  },
  {
   "cell_type": "markdown",
   "id": "6697e400",
   "metadata": {},
   "source": [
    "**Showing The Leftovers After Qty Sold**"
   ]
  },
  {
   "cell_type": "code",
   "execution_count": null,
   "id": "586a9564",
   "metadata": {
    "scrolled": true
   },
   "outputs": [],
   "source": [
    "#merge['Overage'] = merge.OrderedQuantity - merge.Qty_Sold\n",
    "#merge.sort_values('Overage') #ascending=False"
   ]
  },
  {
   "cell_type": "code",
   "execution_count": null,
   "id": "1e0a7bad",
   "metadata": {
    "scrolled": true
   },
   "outputs": [],
   "source": [
    "merge = merge.groupby(['Menu_Item_Name']).sum()\n",
    "merge"
   ]
  },
  {
   "cell_type": "code",
   "execution_count": null,
   "id": "bc51c773",
   "metadata": {},
   "outputs": [],
   "source": [
    "merge['Difference'] = merge['CpuDetailReceivedQuantity'] - merge['Qty_Sold']\n",
    "\n",
    "merge"
   ]
  },
  {
   "cell_type": "code",
   "execution_count": null,
   "id": "6462d50f",
   "metadata": {},
   "outputs": [],
   "source": [
    "merge['CpuDetailReceivedQuantity'] = merge['CpuDetailReceivedQuantity'] > 0\n",
    "merge"
   ]
  },
  {
   "cell_type": "code",
   "execution_count": null,
   "id": "d497ee2c",
   "metadata": {},
   "outputs": [],
   "source": [
    "merge.loc[merge['CpuDetailReceivedQuantity'] != '0.0']\n",
    "merge"
   ]
  },
  {
   "cell_type": "code",
   "execution_count": null,
   "id": "70dfd936",
   "metadata": {},
   "outputs": [],
   "source": [
    "merge['Difference'] = merge['CpuDetailReceivedQuantity'] - merge['Qty_Sold']\n",
    "\n",
    "merge"
   ]
  },
  {
   "cell_type": "code",
   "execution_count": null,
   "id": "7e1fc9b8",
   "metadata": {
    "scrolled": true
   },
   "outputs": [],
   "source": [
    "merge['CpuDetailReceivedQuantity'] = merge['CpuDetailReceivedQuantity'] > 0\n",
    "merge"
   ]
  },
  {
   "cell_type": "code",
   "execution_count": null,
   "id": "50803a1a",
   "metadata": {},
   "outputs": [],
   "source": [
    "merge = merge.loc[merge['CpuDetailReceivedQuantity'] != 0]\n",
    "merge"
   ]
  },
  {
   "cell_type": "code",
   "execution_count": null,
   "id": "9526c6e7",
   "metadata": {},
   "outputs": [],
   "source": [
    "merge.to_excel('Cap_Stone4.xlsx')"
   ]
  },
  {
   "cell_type": "code",
   "execution_count": null,
   "id": "56986161",
   "metadata": {},
   "outputs": [],
   "source": [
    "# pd.set_option('display.max_rows', None)\n",
    "\n",
    "# TopSales.Menu_Item_Name = TopSales.Menu_Item_Name.str.replace(' GNG', '')\n",
    "\n",
    "# test = TopSales.merge(incoming, how='left', on='Menu_Item_Name')\n",
    "# test.head(50)"
   ]
  },
  {
   "cell_type": "code",
   "execution_count": null,
   "id": "a476a7fd",
   "metadata": {},
   "outputs": [],
   "source": [
    "#merge['CpuDetailReceivedQuantity'] = merge['CpuDetailReceivedQuantity' > 1 ] \n",
    "\n",
    "#if merge['CpuDetailReceivedQuantity'].str.contains(['True']):\n",
    " #   print(merge.loc[merge['CpuDetailReceivedQuantity'] == True])"
   ]
  },
  {
   "cell_type": "code",
   "execution_count": null,
   "id": "ee248b95",
   "metadata": {},
   "outputs": [],
   "source": []
  },
  {
   "cell_type": "code",
   "execution_count": null,
   "id": "9af57584",
   "metadata": {},
   "outputs": [],
   "source": []
  },
  {
   "cell_type": "code",
   "execution_count": null,
   "id": "5636fe8f",
   "metadata": {},
   "outputs": [],
   "source": []
  },
  {
   "cell_type": "code",
   "execution_count": null,
   "id": "5f399e1a",
   "metadata": {},
   "outputs": [],
   "source": []
  }
 ],
 "metadata": {
  "kernelspec": {
   "display_name": "Python 3 (ipykernel)",
   "language": "python",
   "name": "python3"
  },
  "language_info": {
   "codemirror_mode": {
    "name": "ipython",
    "version": 3
   },
   "file_extension": ".py",
   "mimetype": "text/x-python",
   "name": "python",
   "nbconvert_exporter": "python",
   "pygments_lexer": "ipython3",
   "version": "3.9.7"
  }
 },
 "nbformat": 4,
 "nbformat_minor": 5
}
